{
 "cells": [
  {
   "cell_type": "code",
   "execution_count": 173,
   "metadata": {},
   "outputs": [],
   "source": [
    "import numpy as np\n",
    "import matplotlib.pyplot as plt"
   ]
  },
  {
   "cell_type": "code",
   "execution_count": 174,
   "metadata": {},
   "outputs": [],
   "source": [
    "import os\n",
    "import shutil\n",
    "import time"
   ]
  },
  {
   "cell_type": "markdown",
   "metadata": {},
   "source": [
    "# Plot Space average of u(t)"
   ]
  },
  {
   "cell_type": "code",
   "execution_count": 175,
   "metadata": {},
   "outputs": [
    {
     "data": {
      "text/plain": [
       "100000.0"
      ]
     },
     "execution_count": 175,
     "metadata": {},
     "output_type": "execute_result"
    }
   ],
   "source": [
    "dt = 0.01\n",
    "tspan = 1000\n",
    "tspan/dt"
   ]
  },
  {
   "cell_type": "code",
   "execution_count": 176,
   "metadata": {},
   "outputs": [],
   "source": [
    "dx = 0.1\n",
    "L = 100\n",
    "L0 = L/3"
   ]
  },
  {
   "cell_type": "code",
   "execution_count": 177,
   "metadata": {},
   "outputs": [],
   "source": [
    "title = \"1D Stripe\\n$C = 1$\\ndt = \" + str(dt) + \" dx = \" + str(dx)"
   ]
  },
  {
   "cell_type": "markdown",
   "metadata": {},
   "source": [
    "# Motion by curvature\n",
    "\n",
    "The simmetry of the problems is such that\n",
    "$$\\Delta = \\partial_xx + \\partial_yy = \\partial_yy$$\n",
    "\n",
    "So we recover the 1D TDGL.\n",
    "\n",
    "This means that we expect the stripe to **shrink very slowly** if $C$ is constant.\n",
    "$$l(t) = \\frac12\\ln{(e^{2l(0)}-48t)}$$\n",
    "\n",
    "We can calculate the domain lenght along y ($l$) from the area of the +1 domain."
   ]
  },
  {
   "cell_type": "code",
   "execution_count": 178,
   "metadata": {},
   "outputs": [
    {
     "data": {
      "image/png": "[encoded data removed]",
      "text/plain": [
       "<Figure size 640x480 with 1 Axes>"
      ]
     },
     "metadata": {},
     "output_type": "display_data"
    }
   ],
   "source": [
    "f = open(\"../fileAveout.dat\", \"r\")\n",
    "N = int(round(tspan/dt))\n",
    "tt = np.zeros(N)\n",
    "ave = np.zeros(N)\n",
    "\n",
    "i = 0\n",
    "for row in f:\n",
    "    a, b = row.split(\" \")\n",
    "    tt[i] = float(a)\n",
    "    ave[i] = float(b)\n",
    "    #print(ave[i])\n",
    "    i = i + 1\n",
    "\n",
    "if(N-i != 0):\n",
    "    print(\"WARNING: dt or tspan is incorrect!\")\n",
    "\n",
    "# Calculate the radius (by exploiting tanh, and we expect even corrections to it, are ODD in (r-R))\n",
    "area = (ave+np.ones(N))*L/2\n",
    "l = np.zeros(len(area))                # exponential of 2*lenght\n",
    "for i in np.arange(0, len(area)):\n",
    "    l[i] = area[i]/L\n",
    "    #print(str(area[i]) + \" \" + str(i))\n",
    "\n",
    "# Times to plot\n",
    "ts = np.arange(0, tt[len(tt)-1], dt)\n",
    "ns = np.arange(0, len(ts))\n",
    "for i in np.arange(0,len(ns)):\n",
    "    ns[i] = int(ts[i]/dt)\n",
    "#ts = np.arange(0, i, int(T/dt))\n",
    "\n",
    "# Motion by curvature\n",
    "fig, ax = plt.subplots()\n",
    "ax.plot(tt[ns], l[ns],'.', label=\"Experiment\")\n",
    "ax.set_xlabel(\"t\")\n",
    "ax.set_ylabel(\"l(t)\")\n",
    "ax.grid()\n",
    "ax.set_title(title)\n",
    "\n",
    "# Analytical expected result\n",
    "#e2l_anal = -48*tt\n",
    "#ax.plot(tt[ns], e2l_anal[ns], \"--\", label=\"Analytical kink collapse\")\n",
    "\n",
    "# Calculate the average over a period\n",
    "T = 25\n",
    "nT = int(T/dt)  # Number of steps corresponding to a period\n",
    "e2lave = np.zeros(len(l)-nT)\n",
    "nsave = np.arange(0,len(tt)-nT)\n",
    "for i in np.arange(0, len(l)):\n",
    "    if i >= nT:\n",
    "        e2lave[i-nT] = np.average(l[ns[i-nT]:ns[i]])\n",
    "        nsave[i-nT] = ns[int(i-nT/2)]\n",
    "#ax.plot(tt[nsave], e2lave, \"--\", label=\"Average over [t+-T/2]\")\n",
    "\n",
    "ax.set_xscale(\"log\")\n",
    "#ax.set_yscale(\"log\")\n",
    "ax.legend()\n",
    "t_min = 40\n",
    "t_max = t_min + 2/25\n",
    "#ax.set_xlim(t_min,t_max)\n",
    "#ax.set_ylim(544,548)"
   ]
  },
  {
   "cell_type": "code",
   "execution_count": 179,
   "metadata": {},
   "outputs": [
    {
     "data": {
      "text/plain": [
       "8.973574241179221e+28"
      ]
     },
     "execution_count": 179,
     "metadata": {},
     "output_type": "execute_result"
    }
   ],
   "source": [
    "np.exp(2*L0) - 48*100"
   ]
  },
  {
   "cell_type": "markdown",
   "metadata": {},
   "source": [
    "# Plot final state u(x, tmax)"
   ]
  },
  {
   "cell_type": "code",
   "execution_count": 180,
   "metadata": {},
   "outputs": [
    {
     "ename": "FileNotFoundError",
     "evalue": "[Errno 2] No such file or directory: '../state.dat'",
     "output_type": "error",
     "traceback": [
      "\u001b[0;31m---------------------------------------------------------------------------\u001b[0m",
      "\u001b[0;31mFileNotFoundError\u001b[0m                         Traceback (most recent call last)",
      "Cell \u001b[0;32mIn[180], line 1\u001b[0m\n\u001b[0;32m----> 1\u001b[0m f \u001b[38;5;241m=\u001b[39m \u001b[38;5;28;43mopen\u001b[39;49m\u001b[43m(\u001b[49m\u001b[38;5;124;43m\"\u001b[39;49m\u001b[38;5;124;43m../state.dat\u001b[39;49m\u001b[38;5;124;43m\"\u001b[39;49m\u001b[43m,\u001b[49m\u001b[43m \u001b[49m\u001b[38;5;124;43m\"\u001b[39;49m\u001b[38;5;124;43mr\u001b[39;49m\u001b[38;5;124;43m\"\u001b[39;49m\u001b[43m)\u001b[49m\n\u001b[1;32m      2\u001b[0m N \u001b[38;5;241m=\u001b[39m \u001b[38;5;28mint\u001b[39m(L\u001b[38;5;241m/\u001b[39mdx)\n\u001b[1;32m      3\u001b[0m x \u001b[38;5;241m=\u001b[39m np\u001b[38;5;241m.\u001b[39mzeros(N)\n",
      "File \u001b[0;32m~/.local/lib/python3.10/site-packages/IPython/core/interactiveshell.py:310\u001b[0m, in \u001b[0;36m_modified_open\u001b[0;34m(file, *args, **kwargs)\u001b[0m\n\u001b[1;32m    303\u001b[0m \u001b[38;5;28;01mif\u001b[39;00m file \u001b[38;5;129;01min\u001b[39;00m {\u001b[38;5;241m0\u001b[39m, \u001b[38;5;241m1\u001b[39m, \u001b[38;5;241m2\u001b[39m}:\n\u001b[1;32m    304\u001b[0m     \u001b[38;5;28;01mraise\u001b[39;00m \u001b[38;5;167;01mValueError\u001b[39;00m(\n\u001b[1;32m    305\u001b[0m         \u001b[38;5;124mf\u001b[39m\u001b[38;5;124m\"\u001b[39m\u001b[38;5;124mIPython won\u001b[39m\u001b[38;5;124m'\u001b[39m\u001b[38;5;124mt let you open fd=\u001b[39m\u001b[38;5;132;01m{\u001b[39;00mfile\u001b[38;5;132;01m}\u001b[39;00m\u001b[38;5;124m by default \u001b[39m\u001b[38;5;124m\"\u001b[39m\n\u001b[1;32m    306\u001b[0m         \u001b[38;5;124m\"\u001b[39m\u001b[38;5;124mas it is likely to crash IPython. If you know what you are doing, \u001b[39m\u001b[38;5;124m\"\u001b[39m\n\u001b[1;32m    307\u001b[0m         \u001b[38;5;124m\"\u001b[39m\u001b[38;5;124myou can use builtins\u001b[39m\u001b[38;5;124m'\u001b[39m\u001b[38;5;124m open.\u001b[39m\u001b[38;5;124m\"\u001b[39m\n\u001b[1;32m    308\u001b[0m     )\n\u001b[0;32m--> 310\u001b[0m \u001b[38;5;28;01mreturn\u001b[39;00m \u001b[43mio_open\u001b[49m\u001b[43m(\u001b[49m\u001b[43mfile\u001b[49m\u001b[43m,\u001b[49m\u001b[43m \u001b[49m\u001b[38;5;241;43m*\u001b[39;49m\u001b[43margs\u001b[49m\u001b[43m,\u001b[49m\u001b[43m \u001b[49m\u001b[38;5;241;43m*\u001b[39;49m\u001b[38;5;241;43m*\u001b[39;49m\u001b[43mkwargs\u001b[49m\u001b[43m)\u001b[49m\n",
      "\u001b[0;31mFileNotFoundError\u001b[0m: [Errno 2] No such file or directory: '../state.dat'"
     ]
    }
   ],
   "source": [
    "f = open(\"../state.dat\", \"r\")\n",
    "N = int(L/dx)\n",
    "x = np.zeros(N)\n",
    "y = np.zeros(N)\n",
    "Z = np.zeros((N,N))\n",
    "i = 0\n",
    "for row in f:\n",
    "    if i != 0:\n",
    "        a, b, c = row.split(\" \")\n",
    "        #a, b = row.split(\"\t\")\n",
    "        J = np.mod(i-1,N)\n",
    "        I = int((i-1)/N)\n",
    "        x[I] = float(a)\n",
    "        y[J] = float(b)\n",
    "        Z[I][J] = float(c)\n",
    "    else:\n",
    "        N, tmax, dx = row.split(\" \")\n",
    "        dx = float(dx)\n",
    "        N = int(N)\n",
    "\n",
    "    i = i + 1\n",
    "\n",
    "#x = x[0:i-1]\n",
    "#y = y[0:i-1]\n",
    "\n",
    "# Make up some fake data\n",
    "X,Y = np.meshgrid(x,y)\n",
    "\n",
    "fig = plt.figure(figsize = (6.5,5))\n",
    "fig.subplots_adjust(wspace=0.3)\n",
    "\n",
    "# Blues\n",
    "#plt.figure(figsize=(10,10))\n",
    "plt.pcolormesh(X, Y, Z, cmap=plt.cm.get_cmap('Blues'), vmin=-1, vmax=1)\n",
    "plt.colorbar()\n",
    "#plt.axis([-3, 3, -3, 3])\n",
    "plt.title('t = ' + str(tmax))"
   ]
  }
 ],
 "metadata": {
  "kernelspec": {
   "display_name": "Python 3",
   "language": "python",
   "name": "python3"
  },
  "language_info": {
   "codemirror_mode": {
    "name": "ipython",
    "version": 3
   },
   "file_extension": ".py",
   "mimetype": "text/x-python",
   "name": "python",
   "nbconvert_exporter": "python",
   "pygments_lexer": "ipython3",
   "version": "3.10.12"
  }
 },
 "nbformat": 4,
 "nbformat_minor": 2
}
