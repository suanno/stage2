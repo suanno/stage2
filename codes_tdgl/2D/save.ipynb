{
 "cells": [
  {
   "cell_type": "markdown",
   "metadata": {},
   "source": [
    "# Save results\n",
    "This script **has to be run after** one (or more, since the evolution can be _progressive_) **calls of \"tdgl.c\"**.\n",
    "\n",
    "It creates in directory **\"/dir_save/\"** (you can change it) a folder **called with the current time (x 1000)** and it **copies inside**:\n",
    "- _fileinit.dat_ (initial state $t_{initial}=0$)\n",
    "- _tdgl\\_results.dat_ (final state and evolution parameters $N, t_{final}, dx, dt, seed, Ampl, T/2$ where $C(t)=Asin(2\\pi t/T)$)\n",
    "- _fileCout.dat_ and _fileAveout.dat_ (histories $C(t)$ and $<u(t)>$ [**space** average])\n",
    "\n",
    "It **just copies** those files, without changing their name or deleting them from the principal directory.\n",
    "So you can continue the evolution after saving.\n"
   ]
  },
  {
   "cell_type": "code",
   "execution_count": 1,
   "metadata": {},
   "outputs": [],
   "source": [
    "import os\n",
    "import shutil\n",
    "import time"
   ]
  },
  {
   "cell_type": "code",
   "execution_count": 2,
   "metadata": {},
   "outputs": [
    {
     "data": {
      "text/plain": [
       "'.saves/lenghscale dt=0.01 C=1 tspan=100/1718192863654/fileinit.dat'"
      ]
     },
     "execution_count": 2,
     "metadata": {},
     "output_type": "execute_result"
    }
   ],
   "source": [
    "# Create evolution directory\n",
    "label = \"\"\n",
    "dir_save = \"lenghscale dt=0.01 C=1 tspan=100/\" \n",
    "dir = \".saves/\" + dir_save + str(int(1000*time.time())) + \"/\" # So you can recover the time of the saving\n",
    "if not os.path.isdir(dir):\n",
    "    os.makedirs(dir)\n",
    "# Copy files\n",
    "\n",
    "shutil.copyfile(\"state.dat\", dir + \"state.dat\")\n",
    "shutil.copyfile(\"state_gradient.dat\", dir + \"state_gradient.dat\")\n",
    "shutil.copyfile(\"fileAveout.dat\", dir + \"fileAveout.dat\")\n",
    "shutil.copyfile(\"fileRadiout.dat\", dir + \"fileRadiout.dat\")\n",
    "shutil.copyfile(\"fileCout.dat\", dir + \"fileCout.dat\")\n",
    "shutil.copyfile(\"fileQ2.dat\", dir + \"fileQ2.dat\")\n",
    "shutil.copyfile(\"fileGrad2.dat\", dir + \"fileGrad2.dat\")\n",
    "f = open(dir + \"label.dat\", \"w\")\n",
    "f.write(label)\n",
    "f.close()\n",
    "shutil.copyfile(\"fileinit.dat\", dir + \"fileinit.dat\")"
   ]
  },
  {
   "cell_type": "markdown",
   "metadata": {},
   "source": []
  }
 ],
 "metadata": {
  "kernelspec": {
   "display_name": "Python 3",
   "language": "python",
   "name": "python3"
  },
  "language_info": {
   "codemirror_mode": {
    "name": "ipython",
    "version": 3
   },
   "file_extension": ".py",
   "mimetype": "text/x-python",
   "name": "python",
   "nbconvert_exporter": "python",
   "pygments_lexer": "ipython3",
   "version": "3.10.12"
  }
 },
 "nbformat": 4,
 "nbformat_minor": 2
}
