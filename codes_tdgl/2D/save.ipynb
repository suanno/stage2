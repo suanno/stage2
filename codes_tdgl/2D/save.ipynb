{
 "cells": [
  {
   "cell_type": "markdown",
   "metadata": {},
   "source": [
    "# Save results\n",
    "This script **has to be run after** one (or more, since the evolution can be _progressive_) **calls of \"tdgl.c\"**.\n",
    "\n",
    "It creates in directory **\"/dir_save/\"** (you can change it) a folder **called with the current time (x 1000)** and it **copies inside**:\n",
    "- _fileinit.dat_ (initial state $t_{initial}=0$)\n",
    "- _tdgl\\_results.dat_ (final state and evolution parameters $N, t_{final}, dx, dt, seed, Ampl, T/2$ where $C(t)=Asin(2\\pi t/T)$)\n",
    "- _fileCout.dat_ and _fileAveout.dat_ (histories $C(t)$ and $<u(t)>$ [**space** average])\n",
    "\n",
    "It **just copies** those files, without changing their name or deleting them from the principal directory.\n",
    "So you can continue the evolution after saving.\n"
   ]
  },
  {
   "cell_type": "code",
   "execution_count": 19,
   "metadata": {},
   "outputs": [],
   "source": [
    "import os\n",
    "import shutil\n",
    "import time"
   ]
  },
  {
   "cell_type": "code",
   "execution_count": 20,
   "metadata": {},
   "outputs": [
    {
     "data": {
      "text/plain": [
       "'.saves/no u3 term different average Cs/1708421477025/fileAveout.dat'"
      ]
     },
     "execution_count": 20,
     "metadata": {},
     "output_type": "execute_result"
    }
   ],
   "source": [
    "# Create evolution directory\n",
    "dir_save = \"T=100 A=0.2 Cave=1 from tanh aftersomeperiods/\" \n",
    "dir = \".saves/\" + dir_save + str(int(1000*time.time())) + \"/\" # So you can recover the time of the saving\n",
    "if not os.path.isdir(dir):\n",
    "    os.makedirs(dir)\n",
    "# Copy files\n",
    "shutil.copyfile(\"fileAveout.dat\", dir + \"fileAveout.dat\")"
   ]
  }
 ],
 "metadata": {
  "kernelspec": {
   "display_name": "Python 3",
   "language": "python",
   "name": "python3"
  },
  "language_info": {
   "codemirror_mode": {
    "name": "ipython",
    "version": 3
   },
   "file_extension": ".py",
   "mimetype": "text/x-python",
   "name": "python",
   "nbconvert_exporter": "python",
   "pygments_lexer": "ipython3",
   "version": "3.10.12"
  }
 },
 "nbformat": 4,
 "nbformat_minor": 2
}
