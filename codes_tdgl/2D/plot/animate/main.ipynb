{
 "cells": [
  {
   "cell_type": "code",
   "execution_count": 1,
   "metadata": {},
   "outputs": [],
   "source": [
    "import os\n",
    "import numpy as np\n",
    "from matplotlib import pyplot as plt"
   ]
  },
  {
   "cell_type": "code",
   "execution_count": 2,
   "metadata": {},
   "outputs": [],
   "source": [
    "def snapshot(N, name):\n",
    "    f = open(\"../../state.dat\", \"r\")\n",
    "    x = np.zeros(N)\n",
    "    y = np.zeros(N)\n",
    "    Z = np.zeros((N,N))\n",
    "    i = 0\n",
    "    for row in f:\n",
    "        if i != 0:\n",
    "            a, b, c = row.split(\" \")\n",
    "            J = np.mod(i-1,N)\n",
    "            I = int((i-1)/N)\n",
    "            x[I] = float(a)\n",
    "            y[J] = float(b)\n",
    "            Z[I][J] = float(c)\n",
    "        else:\n",
    "            N, tmax, dx = row.split(\" \")\n",
    "            dx = float(dx)\n",
    "            N = int(N)\n",
    "\n",
    "        i = i + 1\n",
    "\n",
    "    X,Y = np.meshgrid(x,y)\n",
    "    f.close()\n",
    "    #fig = plt.figure(figsize = (5,5))\n",
    "    #fig.subplots_adjust(wspace=0.3)\n",
    "    # Blues\n",
    "    #plt.figure(figsize=(10,10))\n",
    "    plt.pcolormesh(X, Y, Z, cmap=plt.cm.get_cmap('Blues'), vmin=-1, vmax=1)\n",
    "    #plt.colorbar()\n",
    "    #plt.axis([-3, 3, -3, 3])\n",
    "    plt.title('t = ' + str(tmax))\n",
    "    plt.axis('off')\n",
    "    plt.savefig(name)\n",
    "    plt.clf()"
   ]
  },
  {
   "cell_type": "code",
   "execution_count": 3,
   "metadata": {},
   "outputs": [],
   "source": [
    "# Init\n",
    "size = 256\n",
    "dx = 0.1\n",
    "N = int(size/dx)\n",
    "u0 = 1"
   ]
  },
  {
   "cell_type": "code",
   "execution_count": 9,
   "metadata": {},
   "outputs": [
    {
     "name": "stdout",
     "output_type": "stream",
     "text": [
      "New dx = 0.100000\n"
     ]
    },
    {
     "data": {
      "text/plain": [
       "0"
      ]
     },
     "execution_count": 9,
     "metadata": {},
     "output_type": "execute_result"
    }
   ],
   "source": [
    "cmd = \"cd ../..; ./.bin/datainit \" + str(size) + \" \" + str(u0)\n",
    "os.system(cmd)"
   ]
  },
  {
   "cell_type": "code",
   "execution_count": 4,
   "metadata": {},
   "outputs": [
    {
     "name": "stdout",
     "output_type": "stream",
     "text": [
      "0\n",
      "Reading C(t) from file. From t = 187.875150\n",
      "Finish reading C(t) from file. Until t = 188.775510; tmax = 189.000000\n",
      "Number time steps going to simulate = 3\n"
     ]
    },
    {
     "name": "stderr",
     "output_type": "stream",
     "text": [
      "/tmp/ipykernel_3546/1906296306.py:28: MatplotlibDeprecationWarning: The get_cmap function was deprecated in Matplotlib 3.7 and will be removed two minor releases later. Use ``matplotlib.colormaps[name]`` or ``matplotlib.colormaps.get_cmap(obj)`` instead.\n",
      "  plt.pcolormesh(X, Y, Z, cmap=plt.cm.get_cmap('Blues'), vmin=-1, vmax=1)\n"
     ]
    },
    {
     "name": "stdout",
     "output_type": "stream",
     "text": [
      "1\n"
     ]
    }
   ],
   "source": [
    "# Simulate\n",
    "Dt = 1\n",
    "tspan = 1000\n",
    "numsteps = round(tspan/Dt)\n",
    "cmd = \"cd ../..; ./.bin/tdgl \" + str(Dt) + \" 'fileCin.dat'\"\n",
    "savedir = \"snapshots/\" + str(size) + \"b/\"\n",
    "\n",
    "# Save initial state\n",
    "#snapshot(N, savedir + \"0.png\")\n",
    "for i in np.arange(0, numsteps):\n",
    "    print(i)\n",
    "    os.system(cmd)\n",
    "    # Save\n",
    "    snapshot(N, savedir + str(i+188) + \".png\")"
   ]
  }
 ],
 "metadata": {
  "kernelspec": {
   "display_name": "Python 3",
   "language": "python",
   "name": "python3"
  },
  "language_info": {
   "codemirror_mode": {
    "name": "ipython",
    "version": 3
   },
   "file_extension": ".py",
   "mimetype": "text/x-python",
   "name": "python",
   "nbconvert_exporter": "python",
   "pygments_lexer": "ipython3",
   "version": "3.10.12"
  }
 },
 "nbformat": 4,
 "nbformat_minor": 2
}
