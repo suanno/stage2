{
 "cells": [
  {
   "cell_type": "code",
   "execution_count": 2,
   "metadata": {},
   "outputs": [],
   "source": [
    "import os\n",
    "import numpy as np\n",
    "from matplotlib import pyplot as plt"
   ]
  },
  {
   "cell_type": "code",
   "execution_count": 3,
   "metadata": {},
   "outputs": [],
   "source": [
    "def snapshot(N, name):\n",
    "    f = open(\"../../state.dat\", \"r\")\n",
    "    x = np.zeros(N)\n",
    "    y = np.zeros(N)\n",
    "    Z = np.zeros((N,N))\n",
    "    i = 0\n",
    "    for row in f:\n",
    "        if i != 0:\n",
    "            a, b, c = row.split(\" \")\n",
    "            J = np.mod(i-1,N)\n",
    "            I = int((i-1)/N)\n",
    "            x[I] = float(a)\n",
    "            y[J] = float(b)\n",
    "            Z[I][J] = float(c)\n",
    "        else:\n",
    "            N, tmax, dx = row.split(\" \")\n",
    "            dx = float(dx)\n",
    "            N = int(N)\n",
    "\n",
    "        i = i + 1\n",
    "\n",
    "    X,Y = np.meshgrid(x,y)\n",
    "    f.close()\n",
    "    fig = plt.figure(figsize = (5,5))\n",
    "    fig.subplots_adjust(wspace=0.3)\n",
    "    # Blues\n",
    "    #plt.figure(figsize=(10,10))\n",
    "    plt.pcolormesh(X, Y, Z, cmap=plt.cm.get_cmap('Blues'), vmin=-1, vmax=1)\n",
    "    #plt.colorbar()\n",
    "    #plt.axis([-3, 3, -3, 3])\n",
    "    plt.title('t = ' + str(tmax))\n",
    "    plt.axis('off')\n",
    "    plt.savefig(name)"
   ]
  },
  {
   "cell_type": "code",
   "execution_count": 4,
   "metadata": {},
   "outputs": [],
   "source": [
    "# Init\n",
    "size = 256\n",
    "dx = 0.1\n",
    "N = int(size/dx)\n",
    "u0 = 1"
   ]
  },
  {
   "cell_type": "code",
   "execution_count": 9,
   "metadata": {},
   "outputs": [
    {
     "name": "stdout",
     "output_type": "stream",
     "text": [
      "New dx = 0.100000\n"
     ]
    },
    {
     "data": {
      "text/plain": [
       "0"
      ]
     },
     "execution_count": 9,
     "metadata": {},
     "output_type": "execute_result"
    }
   ],
   "source": [
    "cmd = \"cd ../..; ./.bin/datainit \" + str(size) + \" \" + str(u0)\n",
    "os.system(cmd)"
   ]
  },
  {
   "cell_type": "code",
   "execution_count": 5,
   "metadata": {},
   "outputs": [
    {
     "name": "stdout",
     "output_type": "stream",
     "text": [
      "0\n",
      "Reading C(t) from file. From t = 24.009604\n",
      "Finish reading C(t) from file. Until t = 24.909964; tmax = 25.000000\n",
      "Number time steps going to simulate = 3\n"
     ]
    },
    {
     "name": "stderr",
     "output_type": "stream",
     "text": [
      "/tmp/ipykernel_22468/1499285832.py:28: MatplotlibDeprecationWarning: The get_cmap function was deprecated in Matplotlib 3.7 and will be removed two minor releases later. Use ``matplotlib.colormaps[name]`` or ``matplotlib.colormaps.get_cmap(obj)`` instead.\n",
      "  plt.pcolormesh(X, Y, Z, cmap=plt.cm.get_cmap('Blues'), vmin=-1, vmax=1)\n"
     ]
    },
    {
     "name": "stdout",
     "output_type": "stream",
     "text": [
      "1\n",
      "Reading C(t) from file. From t = 24.909964\n",
      "Finish reading C(t) from file. Until t = 25.810324; tmax = 26.000000\n",
      "Number time steps going to simulate = 3\n",
      "2\n",
      "Reading C(t) from file. From t = 25.810324\n",
      "Finish reading C(t) from file. Until t = 26.710684; tmax = 27.000000\n",
      "Number time steps going to simulate = 3\n",
      "3\n",
      "Reading C(t) from file. From t = 27.010804\n",
      "Finish reading C(t) from file. Until t = 27.911164; tmax = 28.000000\n",
      "Number time steps going to simulate = 3\n",
      "4\n",
      "Reading C(t) from file. From t = 27.911164\n",
      "Finish reading C(t) from file. Until t = 28.811525; tmax = 29.000000\n",
      "Number time steps going to simulate = 3\n",
      "5\n",
      "Reading C(t) from file. From t = 28.811525\n",
      "Finish reading C(t) from file. Until t = 29.711885; tmax = 30.000000\n",
      "Number time steps going to simulate = 3\n",
      "6\n",
      "Reading C(t) from file. From t = 30.012005\n",
      "Finish reading C(t) from file. Until t = 30.912365; tmax = 31.000000\n",
      "Number time steps going to simulate = 3\n",
      "7\n",
      "Reading C(t) from file. From t = 30.912365\n",
      "Finish reading C(t) from file. Until t = 31.812725; tmax = 32.000000\n",
      "Number time steps going to simulate = 3\n",
      "8\n",
      "Reading C(t) from file. From t = 31.812725\n",
      "Finish reading C(t) from file. Until t = 32.713085; tmax = 33.000000\n",
      "Number time steps going to simulate = 3\n",
      "9\n",
      "Reading C(t) from file. From t = 33.013205\n",
      "Finish reading C(t) from file. Until t = 33.913565; tmax = 34.000000\n",
      "Number time steps going to simulate = 3\n",
      "10\n",
      "Reading C(t) from file. From t = 33.913565\n",
      "Finish reading C(t) from file. Until t = 34.813926; tmax = 35.000000\n",
      "Number time steps going to simulate = 3\n",
      "11\n",
      "Reading C(t) from file. From t = 34.813926\n",
      "Finish reading C(t) from file. Until t = 35.714286; tmax = 36.000000\n",
      "Number time steps going to simulate = 3\n",
      "12\n",
      "Reading C(t) from file. From t = 36.014406\n",
      "Finish reading C(t) from file. Until t = 36.914766; tmax = 37.000000\n",
      "Number time steps going to simulate = 3\n",
      "13\n",
      "Reading C(t) from file. From t = 36.914766\n",
      "Finish reading C(t) from file. Until t = 37.815126; tmax = 38.000000\n",
      "Number time steps going to simulate = 3\n",
      "14\n",
      "Reading C(t) from file. From t = 37.815126\n",
      "Finish reading C(t) from file. Until t = 38.715486; tmax = 39.000000\n",
      "Number time steps going to simulate = 3\n",
      "15\n",
      "Reading C(t) from file. From t = 39.015606\n",
      "Finish reading C(t) from file. Until t = 39.915966; tmax = 40.000000\n",
      "Number time steps going to simulate = 3\n",
      "16\n",
      "Reading C(t) from file. From t = 39.915966\n",
      "Finish reading C(t) from file. Until t = 40.816327; tmax = 41.000000\n",
      "Number time steps going to simulate = 3\n",
      "17\n",
      "Reading C(t) from file. From t = 40.816327\n",
      "Finish reading C(t) from file. Until t = 41.716687; tmax = 42.000000\n",
      "Number time steps going to simulate = 3\n",
      "18\n",
      "Reading C(t) from file. From t = 42.016807\n",
      "Finish reading C(t) from file. Until t = 42.917167; tmax = 43.000000\n",
      "Number time steps going to simulate = 3\n",
      "19\n",
      "Reading C(t) from file. From t = 42.917167\n",
      "Finish reading C(t) from file. Until t = 43.817527; tmax = 44.000000\n",
      "Number time steps going to simulate = 3\n",
      "20\n",
      "Reading C(t) from file. From t = 43.817527\n",
      "Finish reading C(t) from file. Until t = 44.717887; tmax = 45.000000\n",
      "Number time steps going to simulate = 3\n"
     ]
    },
    {
     "name": "stderr",
     "output_type": "stream",
     "text": [
      "/tmp/ipykernel_22468/1499285832.py:24: RuntimeWarning: More than 20 figures have been opened. Figures created through the pyplot interface (`matplotlib.pyplot.figure`) are retained until explicitly closed and may consume too much memory. (To control this warning, see the rcParam `figure.max_open_warning`). Consider using `matplotlib.pyplot.close()`.\n",
      "  fig = plt.figure(figsize = (5,5))\n"
     ]
    },
    {
     "name": "stdout",
     "output_type": "stream",
     "text": [
      "21\n",
      "Reading C(t) from file. From t = 45.018007\n",
      "Finish reading C(t) from file. Until t = 45.918367; tmax = 46.000000\n",
      "Number time steps going to simulate = 3\n",
      "22\n",
      "Reading C(t) from file. From t = 45.918367\n",
      "Finish reading C(t) from file. Until t = 46.818727; tmax = 47.000000\n",
      "Number time steps going to simulate = 3\n",
      "23\n",
      "Reading C(t) from file. From t = 46.818727\n",
      "Finish reading C(t) from file. Until t = 47.719088; tmax = 48.000000\n",
      "Number time steps going to simulate = 3\n",
      "24\n",
      "Reading C(t) from file. From t = 48.019208\n",
      "Finish reading C(t) from file. Until t = 48.919568; tmax = 49.000000\n",
      "Number time steps going to simulate = 3\n",
      "25\n",
      "Reading C(t) from file. From t = 48.919568\n",
      "Finish reading C(t) from file. Until t = 49.819928; tmax = 50.000000\n",
      "Number time steps going to simulate = 3\n",
      "26\n"
     ]
    },
    {
     "ename": "",
     "evalue": "",
     "output_type": "error",
     "traceback": [
      "\u001b[1;31mThe Kernel crashed while executing code in the current cell or a previous cell. \n",
      "\u001b[1;31mPlease review the code in the cell(s) to identify a possible cause of the failure. \n",
      "\u001b[1;31mClick <a href='https://aka.ms/vscodeJupyterKernelCrash'>here</a> for more info. \n",
      "\u001b[1;31mView Jupyter <a href='command:jupyter.viewOutput'>log</a> for further details."
     ]
    }
   ],
   "source": [
    "# Simulate\n",
    "Dt = 1\n",
    "tspan = 1000\n",
    "numsteps = round(tspan/Dt)\n",
    "cmd = \"cd ../..; ./.bin/tdgl \" + str(Dt) + \" 'fileCin.dat'\"\n",
    "savedir = \"snapshots/\" + str(size) + \"/\"\n",
    "\n",
    "# Save initial state\n",
    "#snapshot(N, savedir + \"0.png\")\n",
    "for i in np.arange(0, numsteps):\n",
    "    print(i)\n",
    "    os.system(cmd)\n",
    "    # Save\n",
    "    snapshot(N, savedir + str(i+23) + \".png\")"
   ]
  }
 ],
 "metadata": {
  "kernelspec": {
   "display_name": "Python 3",
   "language": "python",
   "name": "python3"
  },
  "language_info": {
   "codemirror_mode": {
    "name": "ipython",
    "version": 3
   },
   "file_extension": ".py",
   "mimetype": "text/x-python",
   "name": "python",
   "nbconvert_exporter": "python",
   "pygments_lexer": "ipython3",
   "version": "3.10.12"
  }
 },
 "nbformat": 4,
 "nbformat_minor": 2
}
