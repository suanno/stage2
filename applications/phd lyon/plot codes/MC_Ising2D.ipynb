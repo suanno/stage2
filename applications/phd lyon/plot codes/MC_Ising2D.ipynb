{
 "cells": [
  {
   "cell_type": "code",
   "execution_count": 29,
   "metadata": {},
   "outputs": [],
   "source": [
    "import numpy as np\n",
    "from matplotlib import pyplot as plt"
   ]
  },
  {
   "cell_type": "code",
   "execution_count": 30,
   "metadata": {},
   "outputs": [],
   "source": [
    "beta = 100"
   ]
  },
  {
   "cell_type": "code",
   "execution_count": 31,
   "metadata": {},
   "outputs": [],
   "source": [
    "N = 256  # Lattice size\n",
    "spins = np.zeros((N, N))\n",
    "for i in np.arange(0, N):\n",
    "    for j in np.arange(0, N):\n",
    "        if (np.random.rand() > 0.5):\n",
    "            spins[i][j] = 1\n",
    "        else:\n",
    "            spins[i][j] = -1\n",
    "\n"
   ]
  },
  {
   "cell_type": "code",
   "execution_count": 62,
   "metadata": {},
   "outputs": [
    {
     "name": "stderr",
     "output_type": "stream",
     "text": [
      "/tmp/ipykernel_8389/3534094410.py:19: MatplotlibDeprecationWarning: The get_cmap function was deprecated in Matplotlib 3.7 and will be removed two minor releases later. Use ``matplotlib.colormaps[name]`` or ``matplotlib.colormaps.get_cmap(obj)`` instead.\n",
      "  plt.pcolormesh(X, Y, spins, cmap=plt.cm.get_cmap('gray'), vmin=-1, vmax=1)\n"
     ]
    },
    {
     "data": {
      "text/plain": [
       "(-0.5, 255.5, -0.5, 255.5)"
      ]
     },
     "execution_count": 62,
     "metadata": {},
     "output_type": "execute_result"
    },
    {
     "data": {
      "image/png": "[encoded data removed]",
      "text/plain": [
       "<Figure size 640x480 with 1 Axes>"
      ]
     },
     "metadata": {},
     "output_type": "display_data"
    }
   ],
   "source": [
    "tspan = 100000\n",
    "for t in np.arange(0, tspan):\n",
    "    i = np.random.randint(0, N)\n",
    "    j = np.random.randint(0, N)\n",
    "    E = - (spins[i][j]*spins[(i-1)%N][j] + spins[i][j]*spins[i][(j-1)%N] + spins[i][j]*spins[i][(j+1)%N] + spins[i][j]*spins[(i+1)%N][j])\n",
    "    if E > 0:\n",
    "        spins[i][j] = -spins[i][j]\n",
    "    else:\n",
    "        if np.random.rand() < np.exp(beta*2*E):\n",
    "            spins[i][j] = -spins[i][j] \n",
    "\n",
    "x = np.arange(0, N)\n",
    "X,Y = np.meshgrid(x,x)\n",
    "\n",
    "\n",
    "from matplotlib.colors import ListedColormap\n",
    "cmap = ListedColormap(['white', 'white'])\n",
    "#plt.pcolormesh(X, Y, spins, cmap=cmap, vmin=-1, vmax=1)\n",
    "plt.pcolormesh(X, Y, spins, cmap=plt.cm.get_cmap('gray'), vmin=-1, vmax=1)\n",
    "\n",
    "\n",
    "color_dict = {0: '↓', 1: '↑'}\n",
    "color_text = {0: 'blue', 1: 'white'}\n",
    "#for i in range(N):\n",
    "    #for j in range(N):\n",
    "        #plt.text(j, i, color_dict[(spins[i, j]+1)/2], ha='center', va='center', color=color_text[(spins[i][j]+1)/2], size=\"20\")\n",
    "#plt.show()\n",
    "#plt.title(\"2D Ising model\\n N=\" + str(N) + \"\\n$k_BT = 4J$\")\n",
    "plt.axis('off')"
   ]
  },
  {
   "cell_type": "code",
   "execution_count": 33,
   "metadata": {},
   "outputs": [
    {
     "data": {
      "text/plain": [
       "array([[-1.,  1.,  1., ...,  1.,  1., -1.],\n",
       "       [ 1.,  1.,  1., ..., -1., -1., -1.],\n",
       "       [ 1.,  1.,  1., ...,  1.,  1.,  1.],\n",
       "       ...,\n",
       "       [ 1.,  1., -1., ..., -1.,  1.,  1.],\n",
       "       [ 1.,  1., -1., ..., -1.,  1., -1.],\n",
       "       [ 1.,  1., -1., ...,  1., -1.,  1.]])"
      ]
     },
     "execution_count": 33,
     "metadata": {},
     "output_type": "execute_result"
    }
   ],
   "source": [
    "spins"
   ]
  },
  {
   "cell_type": "code",
   "execution_count": null,
   "metadata": {},
   "outputs": [],
   "source": []
  }
 ],
 "metadata": {
  "kernelspec": {
   "display_name": "Python 3",
   "language": "python",
   "name": "python3"
  },
  "language_info": {
   "codemirror_mode": {
    "name": "ipython",
    "version": 3
   },
   "file_extension": ".py",
   "mimetype": "text/x-python",
   "name": "python",
   "nbconvert_exporter": "python",
   "pygments_lexer": "ipython3",
   "version": "3.10.12"
  }
 },
 "nbformat": 4,
 "nbformat_minor": 2
}
